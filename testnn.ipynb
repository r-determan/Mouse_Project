{
 "cells": [
  {
   "cell_type": "markdown",
   "id": "b4b6d9cb-298a-46a3-9dbb-0566dec4cd97",
   "metadata": {},
   "source": [
    "# Mouse Project"
   ]
  },
  {
   "cell_type": "markdown",
   "id": "c067aa04-82c8-4894-a0a4-bd4a7728af27",
   "metadata": {
    "tags": []
   },
   "source": [
    "# Resources"
   ]
  },
  {
   "cell_type": "markdown",
   "id": "eca5e5c0-98a0-469f-a39f-987207fadd76",
   "metadata": {},
   "source": [
    "https://machinelearningmastery.com/understanding-simple-recurrent-neural-networks-in-keras/  \n",
    "https://wandb.ai/ayush-thakur/dl-question-bank/reports/LSTM-RNN-in-Keras-Examples-of-One-to-Many-Many-to-One-Many-to-Many---VmlldzoyMDIzOTM\n"
   ]
  },
  {
   "cell_type": "markdown",
   "id": "7b8d52f9-c2d1-45f5-a849-10588f61f96d",
   "metadata": {
    "jp-MarkdownHeadingCollapsed": true,
    "tags": []
   },
   "source": [
    "# Overview/ Notes"
   ]
  },
  {
   "cell_type": "markdown",
   "id": "ec7290f9-275e-4b35-bd2f-b26435029d38",
   "metadata": {},
   "source": [
    "Mouse project = many to one -- several times before the target time are considered and one location (0/1)  "
   ]
  },
  {
   "cell_type": "markdown",
   "id": "6a2efc91-e55b-4412-be6f-77f8123e59fb",
   "metadata": {
    "tags": []
   },
   "source": [
    "# Imports"
   ]
  },
  {
   "cell_type": "code",
   "execution_count": 44,
   "id": "627d6576-91d5-45fd-8256-2f12bd3e83b7",
   "metadata": {},
   "outputs": [],
   "source": [
    "from scipy.io import loadmat \n",
    "\n",
    "from keras.models import Sequential\n",
    "from keras.layers import LSTM, Dense\n",
    "\n",
    "from sklearn.model_selection import train_test_split\n",
    "import numpy as np\n",
    "\n",
    "\n",
    "\n",
    "import matplotlib.pyplot as plt\n",
    "import seaborn as sns\n",
    "from sklearn.metrics import confusion_matrix"
   ]
  },
  {
   "cell_type": "code",
   "execution_count": 31,
   "id": "cd7bc497-cd49-43f7-8f95-ad2efbf69b41",
   "metadata": {},
   "outputs": [],
   "source": [
    "#Import Data\n",
    "y = loadmat(\"Data/Zero_Maze/608034_409/Day_1/Trial_001_0/binned_behavior.mat\")\n",
    "y = y[\"binned_behavior\"][0]\n",
    "\n",
    "X = loadmat(\"Data/Zero_Maze/608034_409/Day_1/Trial_001_0/binned_zscore.mat\")\n",
    "X = X[\"binned_zscore\"]"
   ]
  },
  {
   "cell_type": "markdown",
   "id": "2287d5fe-f971-4159-971f-e7ea1875280a",
   "metadata": {},
   "source": [
    "## Input Shape Clarification"
   ]
  },
  {
   "cell_type": "markdown",
   "id": "6b58676e-e445-4ec4-80f0-5d05403957a4",
   "metadata": {},
   "source": [
    "https://machinelearningmastery.com/reshape-input-data-long-short-term-memory-networks-keras/\n",
    "\n",
    "We can define these data as a matrix of 2 columns with 10 rows:  \n",
    "```from numpy import array  \n",
    "data = array([  \n",
    "\t[0.1, 1.0],  \n",
    "\t[0.2, 0.9],  \n",
    "\t[0.3, 0.8],  \n",
    "\t[0.4, 0.7],  \n",
    "\t[0.5, 0.6],  \n",
    "\t[0.6, 0.5],  \n",
    "\t[0.7, 0.4],  \n",
    "\t[0.8, 0.3],  \n",
    "\t[0.9, 0.2],  \n",
    "\t[1.0, 0.1]])```\n",
    "\n",
    "This data can be framed as 1 sample with 10 time steps and 2 features.  \n",
    "\n",
    "It can be reshaped as a 3D array as follows:\n",
    "```data = data.reshape(1, 10, 2)```"
   ]
  },
  {
   "cell_type": "code",
   "execution_count": 90,
   "id": "8b81965d-8ca0-420a-86f9-8bc178623345",
   "metadata": {},
   "outputs": [
    {
     "data": {
      "text/plain": [
       "(1, 4410, 25)"
      ]
     },
     "execution_count": 90,
     "metadata": {},
     "output_type": "execute_result"
    }
   ],
   "source": [
    "ncells = 25\n",
    "X_small = X[:,0:ncells]\n",
    "\n",
    "x_train, x_test, y_train, y_test = train_test_split(\n",
    "    X_small, y, test_size=0.3, random_state=42)\n",
    "\n",
    "np.shape(x_train) #matrix of 25 columns with 4410 rows # 1 sample with 4410 timesteps and 25 features\n",
    "\n",
    "x_train= x_train.reshape(1,4410,ncells)\n",
    "#x_test= x_test.reshape(1,1890,ncells)\n",
    "\n",
    "np.shape(x_train)"
   ]
  },
  {
   "cell_type": "code",
   "execution_count": 91,
   "id": "5720f1e3-693e-4fcb-9f19-8823bb832633",
   "metadata": {},
   "outputs": [
    {
     "data": {
      "text/plain": [
       "(1890, 25)"
      ]
     },
     "execution_count": 91,
     "metadata": {},
     "output_type": "execute_result"
    }
   ],
   "source": [
    "np.shape(x_test)"
   ]
  },
  {
   "cell_type": "code",
   "execution_count": 101,
   "id": "592def5d-cc04-46f6-99c0-ef97dee16ae9",
   "metadata": {},
   "outputs": [
    {
     "name": "stdout",
     "output_type": "stream",
     "text": [
      "Epoch 1/15\n",
      "51/51 [==============================] - 4s 23ms/step - loss: 0.6283 - accuracy: 0.7218 - val_loss: 0.5437 - val_accuracy: 0.8008\n",
      "Epoch 2/15\n",
      "51/51 [==============================] - 1s 16ms/step - loss: 0.5977 - accuracy: 0.7218 - val_loss: 0.5217 - val_accuracy: 0.8008\n",
      "Epoch 3/15\n",
      "51/51 [==============================] - 1s 15ms/step - loss: 0.5775 - accuracy: 0.7208 - val_loss: 0.5682 - val_accuracy: 0.7333\n",
      "Epoch 4/15\n",
      "51/51 [==============================] - 1s 15ms/step - loss: 0.5552 - accuracy: 0.7224 - val_loss: 0.5528 - val_accuracy: 0.7143\n",
      "Epoch 5/15\n",
      "51/51 [==============================] - 1s 16ms/step - loss: 0.5443 - accuracy: 0.7262 - val_loss: 0.5569 - val_accuracy: 0.6952\n",
      "Epoch 6/15\n",
      "51/51 [==============================] - 1s 15ms/step - loss: 0.5390 - accuracy: 0.7323 - val_loss: 0.5215 - val_accuracy: 0.7492\n",
      "Epoch 7/15\n",
      "51/51 [==============================] - 1s 15ms/step - loss: 0.5335 - accuracy: 0.7427 - val_loss: 0.6067 - val_accuracy: 0.6905\n",
      "Epoch 8/15\n",
      "51/51 [==============================] - 1s 15ms/step - loss: 0.5281 - accuracy: 0.7456 - val_loss: 0.5476 - val_accuracy: 0.7278\n",
      "Epoch 9/15\n",
      "51/51 [==============================] - 1s 16ms/step - loss: 0.5233 - accuracy: 0.7460 - val_loss: 0.5206 - val_accuracy: 0.7635\n",
      "Epoch 10/15\n",
      "51/51 [==============================] - 1s 16ms/step - loss: 0.5161 - accuracy: 0.7589 - val_loss: 0.5519 - val_accuracy: 0.7317\n",
      "Epoch 11/15\n",
      "51/51 [==============================] - 1s 17ms/step - loss: 0.5139 - accuracy: 0.7613 - val_loss: 0.5362 - val_accuracy: 0.7706\n",
      "Epoch 12/15\n",
      "51/51 [==============================] - 1s 18ms/step - loss: 0.5099 - accuracy: 0.7603 - val_loss: 0.6165 - val_accuracy: 0.7357\n",
      "Epoch 13/15\n",
      "51/51 [==============================] - 1s 16ms/step - loss: 0.5060 - accuracy: 0.7631 - val_loss: 0.5865 - val_accuracy: 0.7341\n",
      "Epoch 14/15\n",
      "51/51 [==============================] - 1s 16ms/step - loss: 0.5041 - accuracy: 0.7629 - val_loss: 0.5244 - val_accuracy: 0.7746\n",
      "Epoch 15/15\n",
      "51/51 [==============================] - 1s 16ms/step - loss: 0.5039 - accuracy: 0.7657 - val_loss: 0.6018 - val_accuracy: 0.7381\n"
     ]
    }
   ],
   "source": [
    "model = Sequential()\n",
    "model.add(LSTM(16, activation='relu', input_shape=(ncells, 1)))\n",
    "model.add(Dense(1, activation = 'sigmoid'))\n",
    "\n",
    "model.compile(optimizer=\"rmsprop\",\n",
    "              loss=\"binary_crossentropy\",\n",
    "              metrics=[\"accuracy\"])\n",
    "\n",
    "\n",
    "history = model.fit(X_small, y, epochs=15, batch_size = 100, validation_split=0.2, verbose=1)"
   ]
  },
  {
   "cell_type": "code",
   "execution_count": 102,
   "id": "9a4b383d-fca5-48b8-adc7-d9d4afb745d4",
   "metadata": {},
   "outputs": [
    {
     "data": {
      "image/png": "[encoded data removed]",
      "text/plain": [
       "<Figure size 432x288 with 1 Axes>"
      ]
     },
     "metadata": {
      "needs_background": "light"
     },
     "output_type": "display_data"
    }
   ],
   "source": [
    "history_dict = history.history\n",
    "loss_values = history_dict[\"loss\"]\n",
    "val_loss_values = history_dict[\"val_loss\"]\n",
    "epochs = range(1, len(loss_values) + 1)\n",
    "\n",
    "plt.clf()\n",
    "acc = history_dict[\"accuracy\"]\n",
    "val_acc = history_dict[\"val_accuracy\"]\n",
    "plt.plot(epochs, acc, \"bo\", label=\"Training acc\")\n",
    "plt.plot(epochs, val_acc, \"b\", label=\"Validation acc\")\n",
    "plt.title(\"Training and validation accuracy\")\n",
    "plt.xlabel(\"Epochs\")\n",
    "plt.ylabel(\"Accuracy\")\n",
    "plt.legend()\n",
    "plt.show()"
   ]
  },
  {
   "cell_type": "code",
   "execution_count": 103,
   "id": "e1ca4cc5-2c6e-4491-bf61-eb472aa1906f",
   "metadata": {},
   "outputs": [
    {
     "data": {
      "text/plain": [
       "array([[1.],\n",
       "       [1.],\n",
       "       [1.],\n",
       "       ...,\n",
       "       [1.],\n",
       "       [1.],\n",
       "       [1.]], dtype=float32)"
      ]
     },
     "execution_count": 103,
     "metadata": {},
     "output_type": "execute_result"
    }
   ],
   "source": [
    "model.predict(x_test) \n",
    "np.round(model.predict(x_test),0) "
   ]
  },
  {
   "cell_type": "code",
   "execution_count": 104,
   "id": "f3620e0f-76bf-4ce4-86d0-546bce1b516b",
   "metadata": {},
   "outputs": [
    {
     "data": {
      "text/plain": [
       "array([1, 1, 1, ..., 1, 1, 1], dtype=uint8)"
      ]
     },
     "execution_count": 104,
     "metadata": {},
     "output_type": "execute_result"
    }
   ],
   "source": [
    "y_test # 1 and 0 (survival or not)"
   ]
  },
  {
   "cell_type": "code",
   "execution_count": 105,
   "id": "68c0d81f-bec8-4538-91f0-929c5a0d6d57",
   "metadata": {},
   "outputs": [
    {
     "data": {
      "text/plain": [
       "array([[ 160,  349],\n",
       "       [ 101, 1280]], dtype=int64)"
      ]
     },
     "execution_count": 105,
     "metadata": {},
     "output_type": "execute_result"
    }
   ],
   "source": [
    "# so we need to round to a whole number (0 or 1),\n",
    "# or the confusion matrix won't work!\n",
    "preds = np.round(model.predict(x_test),0)\n",
    "\n",
    "# confusion matrix\n",
    "cf_matrix = confusion_matrix(y_test, preds)\n",
    "cf_matrix\n"
   ]
  },
  {
   "cell_type": "code",
   "execution_count": 106,
   "id": "0b69104c-260f-4da5-8f7e-7991d6060337",
   "metadata": {},
   "outputs": [
    {
     "data": {
      "image/png": "[encoded data removed]",
      "text/plain": [
       "<Figure size 432x288 with 2 Axes>"
      ]
     },
     "metadata": {
      "needs_background": "light"
     },
     "output_type": "display_data"
    },
    {
     "data": {
      "image/png": "[encoded data removed]",
      "text/plain": [
       "<Figure size 432x288 with 2 Axes>"
      ]
     },
     "metadata": {
      "needs_background": "light"
     },
     "output_type": "display_data"
    }
   ],
   "source": [
    "ax = sns.heatmap(cf_matrix/np.sum(cf_matrix), annot=True, \n",
    "            fmt='.2%', cmap='Blues')\n",
    "\n",
    "ax.set_title('Seaborn Confusion Matrix with labels\\n\\n');\n",
    "ax.set_xlabel('\\nPredicted Values')\n",
    "ax.set_ylabel('Actual Values ');\n",
    "\n",
    "## Ticket labels - List must be in alphabetical order\n",
    "ax.xaxis.set_ticklabels(['False','True'])\n",
    "ax.yaxis.set_ticklabels(['False','True'])\n",
    "\n",
    "## Display the visualization of the Confusion Matrix.\n",
    "plt.show()\n",
    "\n",
    "\n",
    "ax = sns.heatmap(cf_matrix, annot=True, \n",
    "            cmap='Blues')\n",
    "ax.set_xlabel('\\nPredicted Values')\n",
    "ax.set_ylabel('Actual Values ');\n",
    "\n",
    "## Ticket labels - List must be in alphabetical order\n",
    "ax.xaxis.set_ticklabels(['False','True'])\n",
    "ax.yaxis.set_ticklabels(['False','True'])\n",
    "\n",
    "## Display the visualization of the Confusion Matrix.\n",
    "plt.show()"
   ]
  },
  {
   "cell_type": "code",
   "execution_count": null,
   "id": "6d4e6762-f9a4-4c48-8c5e-5fa40b7c9a93",
   "metadata": {},
   "outputs": [],
   "source": []
  }
 ],
 "metadata": {
  "kernelspec": {
   "display_name": "Python 3 (ipykernel)",
   "language": "python",
   "name": "python3"
  },
  "language_info": {
   "codemirror_mode": {
    "name": "ipython",
    "version": 3
   },
   "file_extension": ".py",
   "mimetype": "text/x-python",
   "name": "python",
   "nbconvert_exporter": "python",
   "pygments_lexer": "ipython3",
   "version": "3.9.7"
  }
 },
 "nbformat": 4,
 "nbformat_minor": 5
}
